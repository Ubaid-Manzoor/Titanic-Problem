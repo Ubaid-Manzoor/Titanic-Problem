{
  "cells": [
    {
      "metadata": {
        "_uuid": "8f2839f25d086af736a60e9eeb907d3b93b6e0e5",
        "_cell_guid": "b1076dfc-b9ad-4769-8c92-a6c4dae69d19",
        "trusted": true
      },
      "cell_type": "code",
      "source": "# This Python 3 environment comes with many helpful analytics libraries installed\n# It is defined by the kaggle/python docker image: https://github.com/kaggle/docker-python\n# For example, here's several helpful packages to load in \n\nimport numpy as np # linear algebra\nimport pandas as pd # data processing, CSV file I/O (e.g. pd.read_csv)\nimport matplotlib.pyplot as plt\nimport seaborn as sns\n%matplotlib inline\n\nfrom collections import Counter\n\nfrom sklearn.ensemble import RandomForestClassifier , AdaBoostClassifier , GradientBoostingClassifier , ExtraTreesClassifier , VotingClassifier\nfrom xgboost import XGBClassifier\nfrom sklearn.discriminant_analysis import LinearDiscriminantAnalysis\nfrom sklearn.linear_model import LogisticRegression\nfrom sklearn.neighbors import KNeighborsClassifier\nfrom sklearn.tree import DecisionTreeClassifier\nfrom sklearn.neural_network import MLPClassifier\nfrom sklearn.svm import SVC\nfrom sklearn.model_selection import GridSearchCV, cross_val_score, StratifiedKFold, learning_curve\nsns.set(style='white' , context='notebook' , palette='deep')\n\nimport warnings\nwarnings.filterwarnings(\"ignore\")",
      "execution_count": null,
      "outputs": []
    },
    {
      "metadata": {
        "_cell_guid": "79c7e3d0-c299-4dcb-8224-4455121ee9b0",
        "_uuid": "d629ff2d2480ee46fbb7e2d37f6b5fab8052498a",
        "trusted": true
      },
      "cell_type": "code",
      "source": "# Input data files are available in the \"../input/\" directory.\n# For example, running this (by clicking run or pressing Shift+Enter) will list the files in the input directory\n\nimport os\nprint(os.listdir(\"../input\"))\ntrain = pd.read_csv(\"../input/train.csv\")\ntest = pd.read_csv(\"../input/test.csv\")\nIDtest = test['PassengerId']\n# Any results you write to the current directory are saved as output.",
      "execution_count": null,
      "outputs": []
    },
    {
      "metadata": {
        "trusted": true,
        "_uuid": "06f07cf90d06a2c4ea8b2890ac492db032852f5f"
      },
      "cell_type": "code",
      "source": "train.head(10)",
      "execution_count": null,
      "outputs": []
    },
    {
      "metadata": {
        "_uuid": "0c89d956d184a974111a6cbe3590ce32ee457f13"
      },
      "cell_type": "markdown",
      "source": "<h2>Funtion to Detect Outlier</h2>"
    },
    {
      "metadata": {
        "trusted": true,
        "_uuid": "38c70587eb15ce3f24a82ff2a3f15ab5c754aebd"
      },
      "cell_type": "code",
      "source": "def detect_outliers(df, n, features , drop):\n    outlier_indicies = []\n    \n    for col in features:\n        Q1 = np.percentile(df[col] , 25)\n        Q3 = np.percentile(df[col] , 75)\n        #inter Quatile range\n        IQR = Q3-Q1\n        outlier_range = 1.5 * IQR\n        row_index_OfOutliers = df[(df[col] < Q1 - outlier_range) | (df[col] > Q3 + outlier_range)].index\n        outlier_indicies.extend(row_index_OfOutliers)\n    OutlierIndex_count = Counter(outlier_indicies)\n    RowWith_N_outlier = [row_index for row_index in OutlierIndex_count if OutlierIndex_count[row_index] > n]\n    if drop == 1:\n        df = df.drop(RowWith_N_outlier , axis=0).reset_index(drop=True)\n        return df\n    return RowWith_N_outlier\nprint(train.shape)\nOutliers_to_drop = detect_outliers(train,2,[\"Age\",\"SibSp\",\"Parch\",\"Fare\"] , drop=0)\ntrain.loc[Outliers_to_drop] # Show the outliers rows",
      "execution_count": null,
      "outputs": []
    },
    {
      "metadata": {
        "trusted": true,
        "_uuid": "6dd5bfe86b36e64126527a43c9c38a42decbdb0b"
      },
      "cell_type": "code",
      "source": "train = detect_outliers(train,2,[\"Age\",\"SibSp\",\"Parch\",\"Fare\"] , drop=1)",
      "execution_count": null,
      "outputs": []
    },
    {
      "metadata": {
        "_uuid": "6a4c75e2bdfe1ae9ff84eff2e317cc51adf60c8b"
      },
      "cell_type": "markdown",
      "source": "<h3>Join Train and Test Data for Future Steps</h3>"
    },
    {
      "metadata": {
        "trusted": true,
        "_uuid": "9da3be1692e1cb6b0432da5163c7f02f0c919406"
      },
      "cell_type": "code",
      "source": "train_len = len(train)\ndataset = pd.concat(objs=[train , test] , axis=0 , sort=False).reset_index(drop=True)\ndataset.tail()",
      "execution_count": null,
      "outputs": []
    },
    {
      "metadata": {
        "_uuid": "91cb6f71242eddcf1a5dd4e59792d181137df77e"
      },
      "cell_type": "markdown",
      "source": "<h3>Funtion to give information of missing data</h3>"
    },
    {
      "metadata": {
        "trusted": true,
        "_uuid": "0c61dca60cacdcb99b3d2ab07aad134ab465fd3f"
      },
      "cell_type": "code",
      "source": "def get_missingcols(data , num_of_rows , message):\n    print(message)\n    total = data.isnull().sum().sort_values(ascending=False)\n    percent = (data.isnull().sum()/data.isnull().count()).sort_values(ascending=False) * 100\n    Type = data[total.index].dtypes\n    missing_data = pd.concat([total , percent , Type] , axis=1 , keys = ['Total' , 'Percent' , 'Type'])\n    print(missing_data.head(num_of_rows))\nget_missingcols(train , 12 , \"Training Data\")\nget_missingcols(test , 11 , \"test Data\")",
      "execution_count": null,
      "outputs": []
    },
    {
      "metadata": {
        "trusted": true,
        "_uuid": "df6771f62d5fc000797e23df065244ef801cb2cf"
      },
      "cell_type": "code",
      "source": "train.dtypes",
      "execution_count": null,
      "outputs": []
    },
    {
      "metadata": {
        "trusted": true,
        "_uuid": "59604197fc4ddf6e94a0c49de8016a84334fdf8a"
      },
      "cell_type": "code",
      "source": "train.describe()",
      "execution_count": null,
      "outputs": []
    },
    {
      "metadata": {
        "trusted": true,
        "_uuid": "a90a27b9cb93db09b8b9cf85b778231305d0aa8d"
      },
      "cell_type": "code",
      "source": "heatmap = sns.heatmap(train[[\"Survived\",\"SibSp\",\"Parch\",\"Age\",\"Fare\"]].corr() , annot=True , fmt=\".3f\" , cmap=\"coolwarm\")",
      "execution_count": null,
      "outputs": []
    },
    {
      "metadata": {
        "_uuid": "a5baadf7c3808033f3d0456341d11c4503b30899"
      },
      "cell_type": "markdown",
      "source": "<h2>Numerical data Analysis</h2>"
    },
    {
      "metadata": {
        "trusted": true,
        "_uuid": "132b86790cf1d2185380dcb71e7dbeafceccc338"
      },
      "cell_type": "code",
      "source": "#SibSp\nplot = sns.catplot(x='SibSp' , y='Survived' , data=train , kind='bar' , height=6)\nplot.despine(left=True)",
      "execution_count": null,
      "outputs": []
    },
    {
      "metadata": {
        "trusted": true,
        "_uuid": "146ddcfc83bfe2131e8d54a46b264035acaffae8"
      },
      "cell_type": "code",
      "source": "#Age\nplot  = sns.FacetGrid(train , col='Survived')\nplot = plot.map(sns.distplot , \"Age\")",
      "execution_count": null,
      "outputs": []
    },
    {
      "metadata": {
        "trusted": true,
        "_uuid": "55bb587efec32a71ce030889f4edd8bcae0c717e"
      },
      "cell_type": "code",
      "source": "plot = sns.kdeplot(train['Age'][(train['Survived']==0) & (train['Age'].notnull())] , color='Red' , shade=True)\nplot = sns.kdeplot(train[\"Age\"][(train[\"Survived\"] == 1) & (train[\"Age\"].notnull())], ax=plot, color=\"Blue\", shade= True)\nplot.set_xlabel(\"Age\")\nplot.set_ylabel(\"Frequency\")\nplot = plot.legend([\"Not Survived\",\"Survived\"])",
      "execution_count": null,
      "outputs": []
    },
    {
      "metadata": {
        "trusted": true,
        "_uuid": "efd00eb494ec0233064f8f3446d267f4351ed093"
      },
      "cell_type": "code",
      "source": "#Fare\ndataset['Fare'].isnull().sum()",
      "execution_count": null,
      "outputs": []
    },
    {
      "metadata": {
        "trusted": true,
        "_uuid": "ca3bbfb757ce832864b600cc7ff674f2cf7cc5ea"
      },
      "cell_type": "code",
      "source": "dataset['Fare'].fillna(dataset['Fare'].mean() , inplace=True)",
      "execution_count": null,
      "outputs": []
    },
    {
      "metadata": {
        "trusted": true,
        "_uuid": "27c1144566f194570a991229acd71f9b96f29252"
      },
      "cell_type": "code",
      "source": "plot = sns.distplot(dataset['Fare'] , color='m' , label=\"Skewness : %.2f\"%(dataset['Fare'].skew()))\nplot = plot.legend(loc=\"best\")",
      "execution_count": null,
      "outputs": []
    },
    {
      "metadata": {
        "trusted": true,
        "_uuid": "ec343a19083631baad3f856957c13841bc0fd121"
      },
      "cell_type": "code",
      "source": "dataset['Fare'] = dataset['Fare'].map(lambda x:np.log(x) if x>0 else 0)\nplot = sns.distplot(dataset['Fare'] , color='m' , label=\"Skewness : %.2f\"%(dataset['Fare'].skew()))\nplot = plot.legend(loc=\"best\")",
      "execution_count": null,
      "outputs": []
    },
    {
      "metadata": {
        "_uuid": "a9ba52dd3497ad0904106544b4a7c559a2032389"
      },
      "cell_type": "markdown",
      "source": "<h2>Categorical Values</h2>"
    },
    {
      "metadata": {
        "trusted": true,
        "_uuid": "8aac746c906eabd19f21854e1f2d3af70548ae1b"
      },
      "cell_type": "code",
      "source": "#Sex\nplot = sns.catplot(x=\"Sex\",y=\"Survived\",data=train,kind=\"bar\", height = 6)\nplot.despine(left=True)",
      "execution_count": null,
      "outputs": []
    },
    {
      "metadata": {
        "trusted": true,
        "_uuid": "12aa6600b1c8e54079994e777013610c741e90e3"
      },
      "cell_type": "code",
      "source": "train[['Sex' , 'Survived']].groupby('Sex').mean()",
      "execution_count": null,
      "outputs": []
    },
    {
      "metadata": {
        "trusted": true,
        "_uuid": "591205c84df604c5a9d22283718e6a57b69ab5c7"
      },
      "cell_type": "code",
      "source": "#Pclass\nplot = sns.catplot(x=\"Pclass\",y=\"Survived\",data=train,kind=\"bar\", height = 6)\nplot.despine(left=True)",
      "execution_count": null,
      "outputs": []
    },
    {
      "metadata": {
        "trusted": true,
        "_uuid": "b4eae76a5bf2b79351f314be28213f21720d6da0"
      },
      "cell_type": "code",
      "source": "plot = sns.catplot(x=\"Pclass\",y=\"Survived\" , hue='Sex',data=train,kind=\"bar\", height = 6)\nplot.despine(left=True)",
      "execution_count": null,
      "outputs": []
    },
    {
      "metadata": {
        "trusted": true,
        "_uuid": "e0a1c3866160d1589040ba893e3c98474242afde"
      },
      "cell_type": "code",
      "source": "#Embarked\ndataset['Embarked'].isnull().sum()",
      "execution_count": null,
      "outputs": []
    },
    {
      "metadata": {
        "trusted": true,
        "_uuid": "e7b8afe660e200ad4423cde1ce7218b402eb909c"
      },
      "cell_type": "code",
      "source": "dataset['Embarked'].fillna(train['Embarked'].value_counts().idxmax() , inplace=True)",
      "execution_count": null,
      "outputs": []
    },
    {
      "metadata": {
        "trusted": true,
        "_uuid": "313c7365b90521070ba342fbad0601251f3285a1"
      },
      "cell_type": "code",
      "source": "plot = sns.catplot(x='Embarked' , y='Survived' , data = train , kind='bar') \nplot.despine(left=True)",
      "execution_count": null,
      "outputs": []
    },
    {
      "metadata": {
        "trusted": true,
        "_uuid": "c839bbe9e08ef2f8f1b4c12c210bd9013794a8f5"
      },
      "cell_type": "code",
      "source": "plot = sns.catplot('Pclass', col='Embarked' , data=train , kind='count')\nplot.despine(left=True)",
      "execution_count": null,
      "outputs": []
    },
    {
      "metadata": {
        "trusted": true,
        "_uuid": "808fc90d70c81d19b20d3e1058edd9c2afc955ff"
      },
      "cell_type": "code",
      "source": "# plot = sns.catplot(x='Pclass', y='Survived' , col='Embarked' , data=train , kind='bar')\n# plot.despine(left=True)",
      "execution_count": null,
      "outputs": []
    },
    {
      "metadata": {
        "_uuid": "fb86e479c58bd8327ac868c4d3e439f771a9c6f9"
      },
      "cell_type": "markdown",
      "source": "<h2>Filling Missing Values</h2>"
    },
    {
      "metadata": {
        "trusted": true,
        "scrolled": false,
        "_uuid": "870df9277462776fbdfcf8cd61a53e5b77ecf466"
      },
      "cell_type": "code",
      "source": "#Age\n\n\n# Explore Age vs Sex, Parch , Pclass and SibSP\nplot = sns.catplot(y=\"Age\",x=\"Sex\",data=dataset,kind=\"box\")\nplot = sns.catplot(y=\"Age\",x=\"Pclass\", data=dataset,kind=\"box\")\nplot = sns.catplot(y=\"Age\",x=\"Parch\", data=dataset,kind=\"box\")\nplot = sns.catplot(y=\"Age\",x=\"SibSp\", data=dataset,kind=\"box\")",
      "execution_count": null,
      "outputs": []
    },
    {
      "metadata": {
        "_uuid": "3ed2450d23a05e1dd1a8419926bfffce56e6dda9"
      },
      "cell_type": "markdown",
      "source": "<p>This help to understand that we can predict Age on the basis of SibSp , Parch and Pclass</p>"
    },
    {
      "metadata": {
        "trusted": true,
        "_uuid": "07ccf417c8660161a7e11fdd7f27a3de4063c6c7"
      },
      "cell_type": "code",
      "source": "from sklearn.ensemble import RandomForestRegressor\nfrom sklearn.model_selection import train_test_split\ntrain_X = dataset[['SibSp','Pclass','Parch']][dataset['Age'].notnull()]\ntrain_y = dataset[['Age']][dataset['Age'].notnull()]\ntest_X = dataset[['SibSp','Pclass','Parch']][dataset['Age'].isnull()]\nmodel = RandomForestRegressor(n_estimators=100,random_state=1)\nmodel.fit(train_X , train_y)\nprediction = np.round(model.predict(test_X),decimals=0)\ndataset['Age'][dataset['Age'].isnull()] = prediction",
      "execution_count": null,
      "outputs": []
    },
    {
      "metadata": {
        "_uuid": "63b43833c320c18173e8ec9c8b7ffc76085e9789"
      },
      "cell_type": "markdown",
      "source": "<h1>Feature Engineering</h1>"
    },
    {
      "metadata": {
        "trusted": true,
        "scrolled": true,
        "_uuid": "728691b017cd9d4075ec580f779607fd0ad3ca00"
      },
      "cell_type": "code",
      "source": "dataset.rename(columns={'Name':'Title'} , inplace=True)\ndataset['Title'].head()",
      "execution_count": null,
      "outputs": []
    },
    {
      "metadata": {
        "trusted": true,
        "_uuid": "f1d27ca3227e62333760e9e9f0bd6f62250f6d03"
      },
      "cell_type": "code",
      "source": "#Name\nunique_list = [name.split(',')[1].split('.')[0].strip() for name in dataset['Title']]\ndataset['Title'] = pd.Series(unique_list)\ndataset['Title'].head()",
      "execution_count": null,
      "outputs": []
    },
    {
      "metadata": {
        "trusted": true,
        "_uuid": "06234e958b830571d6a31bb4a82fde0610c33ba4"
      },
      "cell_type": "code",
      "source": "def replace_titles(x):\n    title=x['Title']\n    if title in ['Don', 'Major', 'Capt', 'Jonkheer', 'Rev', 'Col' , 'Sir']:\n        return 'Mr'\n    elif title in ['Mme' , 'the Countess']:\n        return 'Mrs'\n    elif title in ['Mlle', 'Ms' , 'Lady' , 'Dona']:\n        return 'Miss'\n    elif title =='Dr':\n        if x['Sex']=='Male':\n            return 'Mr'\n        else:\n            return 'Mrs'\n    else:\n        return title\ndataset['Title']=dataset.apply(replace_titles, axis=1)\ndataset['Title'].value_counts()",
      "execution_count": null,
      "outputs": []
    },
    {
      "metadata": {
        "trusted": true,
        "_uuid": "4f87f5812b78b98a185c93e3730de9b8b3224dfd"
      },
      "cell_type": "code",
      "source": "plot = sns.factorplot(x='Title' , y='Survived' , data=dataset , kind='bar')",
      "execution_count": null,
      "outputs": []
    },
    {
      "metadata": {
        "trusted": true,
        "_uuid": "1846e741f70b418791051ade6a2c963816a2723e"
      },
      "cell_type": "code",
      "source": "#Family Size(new Feature)\ndataset['Fsize'] = dataset['SibSp'] + dataset['Parch']",
      "execution_count": null,
      "outputs": []
    },
    {
      "metadata": {
        "trusted": true,
        "_uuid": "f052c2e228d31fa1194f5eb5bec6a9683bd51f90"
      },
      "cell_type": "code",
      "source": "plot = sns.factorplot(x='Fsize' , y='Survived' , data=dataset , kind='bar')",
      "execution_count": null,
      "outputs": []
    },
    {
      "metadata": {
        "trusted": true,
        "_uuid": "d357d6e197f7bcba806c094f278bbf13f6f6ed1b"
      },
      "cell_type": "code",
      "source": "\n\n# Create new feature of family size\ndataset['Single'] = dataset['Fsize'].map(lambda s: 1 if s == 0 else 0)\ndataset['SmallF'] = dataset['Fsize'].map(lambda s: 1 if  1<= s <= 2  else 0)\ndataset['MedF'] = dataset['Fsize'].map(lambda s: 1 if s == 3 else 0)\ndataset['LargeF'] = dataset['Fsize'].map(lambda s: 1 if s >= 4 else 0)",
      "execution_count": null,
      "outputs": []
    },
    {
      "metadata": {
        "trusted": true,
        "_uuid": "241f570df2e8f8e3be5b0fec747b12254b96e292"
      },
      "cell_type": "code",
      "source": "g = sns.factorplot(x=\"Single\",y=\"Survived\",data=dataset,kind=\"bar\")\ng = g.set_ylabels(\"Survival Probability\")\ng = sns.factorplot(x=\"SmallF\",y=\"Survived\",data=dataset,kind=\"bar\")\ng = g.set_ylabels(\"Survival Probability\")\ng = sns.factorplot(x=\"MedF\",y=\"Survived\",data=dataset,kind=\"bar\")\ng = g.set_ylabels(\"Survival Probability\")\ng = sns.factorplot(x=\"LargeF\",y=\"Survived\",data=dataset,kind=\"bar\")\ng = g.set_ylabels(\"Survival Probability\")\n",
      "execution_count": null,
      "outputs": []
    },
    {
      "metadata": {
        "trusted": true,
        "_uuid": "e8455458ce9685129c0449d85964a4f2a38d6b24"
      },
      "cell_type": "code",
      "source": "#Apply onehot encoding\ndataset = pd.get_dummies(dataset , columns=['Title' , 'Embarked'])\n#Change Sex to 0 and 1\ndataset['Sex'] = dataset['Sex'].map(lambda s:1 if s=='male' else 0)",
      "execution_count": null,
      "outputs": []
    },
    {
      "metadata": {
        "trusted": true,
        "_uuid": "8792e8767939ed7a98722b34fcd7532a96ce2289"
      },
      "cell_type": "code",
      "source": "dataset.head()",
      "execution_count": null,
      "outputs": []
    },
    {
      "metadata": {
        "trusted": true,
        "_uuid": "3f55c2e6cdb77a59a255077b7f7c96407a034a5f"
      },
      "cell_type": "code",
      "source": "#Cabin\ndataset['Cabin'].head()",
      "execution_count": null,
      "outputs": []
    },
    {
      "metadata": {
        "trusted": true,
        "_uuid": "a0406242d723cfff02a1406854e1eda6bf4d3008"
      },
      "cell_type": "code",
      "source": "dataset['Cabin'] = pd.Series(cabin[0] if not pd.isnull(cabin) else 'X' for cabin in dataset['Cabin'].values)",
      "execution_count": null,
      "outputs": []
    },
    {
      "metadata": {
        "trusted": true,
        "_uuid": "aec8f525144658653de6bc49ca00d59adb601dd9"
      },
      "cell_type": "code",
      "source": "g = sns.countplot(dataset[\"Cabin\"],order=['A','B','C','D','E','F','G','T','X'])",
      "execution_count": null,
      "outputs": []
    },
    {
      "metadata": {
        "trusted": true,
        "_uuid": "7a5175a23444e2738e8f911c2ecce5b3fce1a54e"
      },
      "cell_type": "code",
      "source": "plot = sns.factorplot(y=\"Survived\",x=\"Cabin\",data=dataset,kind=\"bar\",order=['A','B','C','D','E','F','G','T','X'])\nplot = plot.set_ylabels(\"Survival Probability\")",
      "execution_count": null,
      "outputs": []
    },
    {
      "metadata": {
        "trusted": true,
        "_uuid": "e3620e5394c7caf1ebe98cb6e7401f1558e3fdd7"
      },
      "cell_type": "code",
      "source": "dataset = pd.get_dummies(dataset , columns=['Cabin'])",
      "execution_count": null,
      "outputs": []
    },
    {
      "metadata": {
        "trusted": true,
        "_uuid": "5a77b6556c9a3fa5e898927e2008ea0b78d4b7a3"
      },
      "cell_type": "code",
      "source": "#Tickets\ndataset['Ticket'].head()",
      "execution_count": null,
      "outputs": []
    },
    {
      "metadata": {
        "trusted": true,
        "_uuid": "8d51fd8a2287b2672cc8972671c0d7b1da50fa1e"
      },
      "cell_type": "code",
      "source": "Tickets = []\nfor t in list(dataset.Ticket):\n    if not t.isdigit():\n        Tickets.append(t.split(\" \")[0].replace(\".\",\"\").replace(\"/\",\"\").strip())\n    else:\n        Tickets.append(\"X\")\ndataset['Ticket'] = pd.Series(Tickets)",
      "execution_count": null,
      "outputs": []
    },
    {
      "metadata": {
        "trusted": true,
        "scrolled": true,
        "_uuid": "08c081cb628abc7030226718b0093b986b80eaf3"
      },
      "cell_type": "code",
      "source": "dataset['Ticket'].head()",
      "execution_count": null,
      "outputs": []
    },
    {
      "metadata": {
        "trusted": true,
        "_uuid": "0dc95c09a6d1d7e4c4cebe8fe24932a61131cf22"
      },
      "cell_type": "code",
      "source": "dataset['Ticket'].value_counts()",
      "execution_count": null,
      "outputs": []
    },
    {
      "metadata": {
        "trusted": true,
        "_uuid": "c9504f6179e7844fb4aea6571a9a05852e3e9ce2"
      },
      "cell_type": "code",
      "source": "dataset = pd.get_dummies(dataset , columns=['Pclass' , 'Ticket'])",
      "execution_count": null,
      "outputs": []
    },
    {
      "metadata": {
        "trusted": true,
        "_uuid": "2defab11d2ce790b3bd98d99e63af1685075c9e3"
      },
      "cell_type": "code",
      "source": "dataset.drop(['PassengerId'] , axis=1 , inplace=True)",
      "execution_count": null,
      "outputs": []
    },
    {
      "metadata": {
        "trusted": true,
        "_uuid": "f1e314b5dc4510c318cdcaae4aa21576d458212b"
      },
      "cell_type": "code",
      "source": "dataset.head()",
      "execution_count": null,
      "outputs": []
    },
    {
      "metadata": {
        "trusted": true,
        "_uuid": "9fab3c90ec58c1f6b5682b1c1b036e1b25025665"
      },
      "cell_type": "code",
      "source": "dataset.shape",
      "execution_count": null,
      "outputs": []
    },
    {
      "metadata": {
        "_uuid": "a76940441169eceb01fde5a49aa019a559a8fdb4"
      },
      "cell_type": "markdown",
      "source": "<h1>Modeling</h1>"
    },
    {
      "metadata": {
        "trusted": true,
        "_uuid": "85512fc212748ecc9c5d7f90d92c68fe1d9eca3c"
      },
      "cell_type": "code",
      "source": "train = dataset[:train_len]\ntest = dataset[train_len:]\ntest.drop('Survived' , axis=1 , inplace=True)",
      "execution_count": null,
      "outputs": []
    },
    {
      "metadata": {
        "trusted": true,
        "_uuid": "67d7f1bb9e14e940a09ab14abaf9d5ed06bbe430"
      },
      "cell_type": "code",
      "source": "train['Survived'] = train['Survived'].astype(int)\ny_train = train['Survived']\nX_train= train.drop('Survived', axis=1)",
      "execution_count": null,
      "outputs": []
    },
    {
      "metadata": {
        "trusted": true,
        "_uuid": "bc2aca88ef64762d650421b819b44b8006bf7d7b"
      },
      "cell_type": "code",
      "source": "X_train.head()",
      "execution_count": null,
      "outputs": []
    },
    {
      "metadata": {
        "trusted": true,
        "_uuid": "98c681702a89ab9bc20088291e074e1a6b010e81"
      },
      "cell_type": "code",
      "source": "y_train.head()",
      "execution_count": null,
      "outputs": []
    },
    {
      "metadata": {
        "trusted": true,
        "_uuid": "79fbe6acdd99810ddcde79faba70d087fee0c558"
      },
      "cell_type": "code",
      "source": "# random_state=1\n# classifiers = []\n# classifiers.append(SVC(random_state=random_state))\n# classifiers.append(DecisionTreeClassifier(random_state=random_state))\n# classifiers.append(AdaBoostClassifier(DecisionTreeClassifier(random_state=random_state),random_state=random_state,learning_rate=0.1))\n# classifiers.append(RandomForestClassifier(random_state=random_state))\n# classifiers.append(GradientBoostingClassifier(random_state=random_state))\n# classifiers.append(KNeighborsClassifier())\n# classifiers.append(LogisticRegression(random_state = random_state))\n# classifiers.append(XGBClassifier(n_estimator =100, random_state=random_state))\n\n# cv_scores = []\n# for classifier in classifiers:\n#     cv_scores.append(cross_val_score(classifier , X_train , y=y_train , scoring='accuracy' , cv=10 , n_jobs=4).mean())\n# print(cv_scores)\n\n# cv_df = pd.DataFrame({\"CrossValMeans\":cv_scores,\"Algorithm\":[\"SVC\",\"DecisionTree\",\"AdaBoost\",\"RandomForest\",\"GradientBoosting\"\n#                      ,\"KNeighboors\",\"LogisticRegression\",\"XGBClassifier\"]})\n# plot = sns.barplot(x='CrossValMeans' , y='Algorithm' , data=cv_df , orient='h')",
      "execution_count": null,
      "outputs": []
    },
    {
      "metadata": {
        "_uuid": "88a8afe033119dc13afc079033d28c44d8905d94"
      },
      "cell_type": "markdown",
      "source": "<h2>Feature Selection</h2>"
    },
    {
      "metadata": {
        "trusted": true,
        "_uuid": "add322edf1d92ecb46850f15c9b29dca516b0f73"
      },
      "cell_type": "code",
      "source": "#Using XGBoost\nfrom matplotlib import pyplot\nfrom xgboost import plot_importance\nmodel = XGBClassifier(n_estimater=100  , random_state=2)\nmodel.fit(X_train,y_train)\n",
      "execution_count": null,
      "outputs": []
    },
    {
      "metadata": {
        "trusted": true,
        "_uuid": "199e33bfddfed7ebb4497287fdea81d4d37136aa"
      },
      "cell_type": "code",
      "source": "importance_features = model.feature_importances_\nimportance_df = pd.DataFrame({\"features\":X_train.columns , \"importance\":importance_features})\nimportance_df = importance_df.sort_values(by='importance' , ascending=False).reset_index(drop=True)",
      "execution_count": null,
      "outputs": []
    },
    {
      "metadata": {
        "trusted": true,
        "_uuid": "10765315a4878c04f72d09a01fc4cce567eb1ec1"
      },
      "cell_type": "code",
      "source": "plot_importance(model)",
      "execution_count": null,
      "outputs": []
    },
    {
      "metadata": {
        "trusted": true,
        "_uuid": "ce7b4bca746d779b95bdebea6c19dd3565209a07"
      },
      "cell_type": "code",
      "source": "pyplot.figure(figsize=(15,10))\nplot = sns.barplot(x='importance' , y='features' , orient='h' , data=importance_df[:26])",
      "execution_count": null,
      "outputs": []
    },
    {
      "metadata": {
        "trusted": true,
        "_uuid": "e9495ffb69bf2b46c5fa962d074efa02061be4f3"
      },
      "cell_type": "code",
      "source": "from matplotlib import pyplot\nfrom xgboost import plot_importance\nXGB_model = XGBClassifier(n_estimators=100  , random_state=2)\n#Choise Best Features\ndef getBestFeature(model , X_train , y_train , plot=False , feature_num=0 , F_range=[0,0]):\n    model.fit(X_train,y_train)\n    important_features = model.feature_importances_\n    importance_df = pd.DataFrame({\"features\":X_train.columns , \"importance\":important_features})\n    importance_df = importance_df.sort_values(by='importance' , ascending=False).reset_index(drop=True)\n    #Plot the Features\n    if plot==True:\n        pyplot.figure(figsize=(15,10))\n        plot = sns.barplot(x='importance' , y='features' , orient='h' , data=importance_df[:feature_num])\n        pyplot.show()\n    #Get the Best Features\n    accuracy = []\n    feature_len=[]    \n    for i in range(1,int(len(important_features))):\n        feature_len.append(i)\n    feature_len.append(len(important_features))\n    for F_len in feature_len:\n        features = importance_df['features'][:F_len]\n        accuracy.append(cross_val_score(model, X_train[features], y = y_train, scoring = \"accuracy\", cv = 10, n_jobs=4).mean())\n    print(accuracy,feature_len)\n    df = pd.DataFrame({\"feature_len\":feature_len , \"accuracy\":accuracy})\n    pyplot.close()\n    plot = pyplot.plot(df['feature_len'] , accuracy)\n    return (importance_df['features'][:feature_len[accuracy.index(max(accuracy))]] , max(accuracy))",
      "execution_count": null,
      "outputs": []
    },
    {
      "metadata": {
        "trusted": true,
        "_uuid": "404f9536462488ec7f583f44683005cf96305182"
      },
      "cell_type": "code",
      "source": "Best_features_XGB , Best_acc_XGB = getBestFeature(XGB_model ,X_train , y_train , plot=True , feature_num=30)",
      "execution_count": null,
      "outputs": []
    },
    {
      "metadata": {
        "trusted": true,
        "_uuid": "c7aa3184849aff68dd7ff506265d400cbf60d2d3"
      },
      "cell_type": "code",
      "source": "print(Best_features_XGB)\nprint(\"Best_acc :\", Best_acc_XGB)",
      "execution_count": null,
      "outputs": []
    },
    {
      "metadata": {
        "trusted": true,
        "_uuid": "c6fa7de53781bfe70b9d275db02b3c2b6dd3a185"
      },
      "cell_type": "code",
      "source": "Ada_model = AdaBoostClassifier()\nBest_features_Ada , Best_acc_Ada = getBestFeature(Ada_model , X_train , y_train , plot=True , feature_num=30)",
      "execution_count": null,
      "outputs": []
    },
    {
      "metadata": {
        "trusted": true,
        "_uuid": "6f93c1c0d83aa7692f4af0dc8f412237b6e9ede3"
      },
      "cell_type": "code",
      "source": "print(Best_features_Ada )\nprint(\"Best_acc :\",Best_acc_Ada)",
      "execution_count": null,
      "outputs": []
    },
    {
      "metadata": {
        "trusted": true,
        "_uuid": "4bca03e3352bb240236f4e70a0b6864e874c3582"
      },
      "cell_type": "code",
      "source": "RF_model = RandomForestClassifier()\nBest_features_RF,Best_acc_RF = getBestFeature(RF_model , X_train , y_train , plot=True , feature_num=30)",
      "execution_count": null,
      "outputs": []
    },
    {
      "metadata": {
        "trusted": true,
        "_uuid": "bf72c72841f279021a3c0e274f01db4538b97741"
      },
      "cell_type": "code",
      "source": "print(Best_features_RF,Best_acc_RF)",
      "execution_count": null,
      "outputs": []
    },
    {
      "metadata": {
        "trusted": true,
        "_uuid": "3b419f53b41fef9b8da5cbb4d9d69b802763be51"
      },
      "cell_type": "code",
      "source": "Extree_model = ExtraTreesClassifier()\nBest_features_Extree,Best_acc_Extree = getBestFeature(Extree_model , X_train , y_train , plot=True , feature_num=30)",
      "execution_count": null,
      "outputs": []
    },
    {
      "metadata": {
        "trusted": true,
        "_uuid": "2de4034ee4afaa6dad7a4b159207f3436e9b6f5f"
      },
      "cell_type": "code",
      "source": "print(Best_features_Extree,Best_acc_Extree)",
      "execution_count": null,
      "outputs": []
    },
    {
      "metadata": {
        "trusted": true,
        "_uuid": "32942e760ade55ff2a435bb03d955c54f5bc5b97"
      },
      "cell_type": "code",
      "source": "# Knn_model = KNeighborsClassifier()\n# Best_features_Knn,Best_acc_Knn = getBestFeature(Knn_model , X_train , y_train , plot=True , feature_num=30)",
      "execution_count": null,
      "outputs": []
    },
    {
      "metadata": {
        "trusted": true,
        "_uuid": "9d330da1b931319908eb8290d767796e67068cd4"
      },
      "cell_type": "code",
      "source": "# print(Best_features_knn,Best_acc_knn)",
      "execution_count": null,
      "outputs": []
    },
    {
      "metadata": {
        "trusted": true,
        "_uuid": "e32ea8b0eace2cf9319bd7edb9c30f0741dfcc0c"
      },
      "cell_type": "code",
      "source": "# svm_model = SVC()\n# Best_features_svc,Best_acc_svc = getBestFeature(svm_model , X_train , y_train , plot=True , feature_num=30)",
      "execution_count": null,
      "outputs": []
    },
    {
      "metadata": {
        "trusted": true,
        "_uuid": "1d60c7f13410ce1150514e0bfa23e578e1a335c2"
      },
      "cell_type": "code",
      "source": "#Greedy Approach To Select Features\n# def getBestFeature_BeingGreedy(model , X_train , y_train , plot=False , feature_num=0 , F_range=[0,0]):\n#     model.fit(X_train,y_train)\n#     important_features = model.feature_importances_\n#     importance_df = pd.DataFrame({\"features\":X_train.columns , \"importance\":important_features})\n#     importance_df = importance_df.sort_values(by='importance' , ascending=False).reset_index(drop=True)\n#     #Get the Best Features\n#     accuracy = [0]\n#     feature_list = []\n#     for feature in importance_df['features']:\n#         acc = accuracy[-1]\n#         accuracy.append(cross_val_score(model, X_train[feature_list+[feature]], y = y_train, scoring = \"accuracy\", cv = 10, n_jobs=4).mean())\n#         if accuracy[-1] > acc:\n#             feature_list.append(feature)\n#     accuracy.remove(0)\n#     print(accuracy,feature_list)\n#     df = pd.DataFrame({\"feature_len\":importance_df['features'], \"accuracy\":accuracy})\n#     pyplot.close()\n#     plot = pyplot.plot(df['feature_len'] , accuracy)\n#     print(accuracy.index(max(accuracy)))\n#     return importance_df['features'][:feature_list[accuracy.index(max(accuracy))]]",
      "execution_count": null,
      "outputs": []
    },
    {
      "metadata": {
        "trusted": true,
        "_uuid": "8ca740d82713d11484d2afa8fa819333baeb7620"
      },
      "cell_type": "code",
      "source": "# Best_Features = getBestFeature_BeingGreedy(model ,X_train , y_train , plot=True , feature_num=30)",
      "execution_count": null,
      "outputs": []
    },
    {
      "metadata": {
        "trusted": true,
        "_uuid": "55e8d583502d91f39851649371d00944e807523a"
      },
      "cell_type": "code",
      "source": "#range(1,250,10), gamma=0.05, learning_rate=0.08,n_estimators=231\n#np.round(np.linspace(0 , 0.3 , 19) , 2), 'gamma':[0.01,0.05,0.1,0.5]\nXGB = XGBClassifier()\ngb_param_grid = {\n              'n_estimators' :[231],\n              'learning_rate':[0.08],\n                'gamma':[0.05]\n              }\n\ngsXGB = GridSearchCV(XGB,param_grid = gb_param_grid, cv=10, scoring=\"accuracy\", n_jobs= 4, verbose = 1)\n\ngsXGB.fit(X_train[Best_features_XGB],y_train)\n\nXGB_best = gsXGB.best_estimator_\n#n_estimators=61\n#learning_rate=0.22\n# Best score\ngsXGB.best_score_",
      "execution_count": null,
      "outputs": []
    },
    {
      "metadata": {
        "trusted": true,
        "_uuid": "2293369d8ea2a1d0a6244298e58e87335b3dc531"
      },
      "cell_type": "code",
      "source": "def tuneParams(classifier,params,train_x,train_y):\n    md = GridSearchCV(classifier,params,cv=10,scoring='accuracy',n_jobs=-1)\n    md.fit(train_x,train_y)\n    best_params,best_score = md.best_params_,np.round(md.best_score_*100,2)\n    \n    return best_params,best_score , md.best_estimator_",
      "execution_count": null,
      "outputs": []
    },
    {
      "metadata": {
        "trusted": true,
        "_uuid": "b75cbdca47b3e7ecf950b940ca1ebeeb2cf70750"
      },
      "cell_type": "code",
      "source": "# ABParams = {'n_estimators':range(1,500,25),'learning_rate':[0.1,0.2,0.3,0.22,0.01,0.02,0.03,0.04,0.05]}\n# RFParams = {'n_estimators':[5,10,15,20,25,30,35,40,45,50],'max_depth':[3,5,8,10],'min_samples_split':[2,5,10],'min_samples_leaf':[2,4,10],'random_state':[5]}\n# ETParams = {'n_estimators':range(1,500,25),'max_depth':[3,8,12],'min_samples_leaf':[2,4,9],'verbose':[0]}\n#KNNParams = {'n_neighbors':[3,8,14],'leaf_size':[2,5,9],'weights':['uniform']}\n# SVCParams = {'C':[0.01,0.1,0.5],'gamma':[0.01,0.2]}\nABParams= {'learning_rate': [0.1], 'n_estimators': [250]} \nRFParams= {'max_depth': [8], 'min_samples_leaf': [2], 'min_samples_split': [5], 'n_estimators': [1], 'random_state': [5]}\nETParams= {'max_depth': [12], 'min_samples_leaf': [2], 'n_estimators': [300], 'verbose': [0]}\nKNNParams= {'leaf_size': [2], 'n_neighbors': [3], 'weights': ['uniform']} \nSVCParams= {'C': [0.5], 'gamma':[0.2]}\n# AdaBoost: {'learning_rate': 0.1, 'n_estimators': 250} 82.97\n# RandomForest: {'max_depth': 8, 'min_samples_leaf': 2, 'min_samples_split': 5, 'n_estimators': 10, 'random_state': 5} 84.11\n# ExtraTrees: {'max_depth': 12, 'min_samples_leaf': 2, 'n_estimators': 300, 'verbose': 0} 83.88\n# SVC: {'C': 0.5, 'gamma': 0.2} 80.02",
      "execution_count": null,
      "outputs": []
    },
    {
      "metadata": {
        "trusted": true,
        "_uuid": "2ddbfde5f58b6b0c45b8b8621393cc6b5730ea6b"
      },
      "cell_type": "code",
      "source": "processed_train_data = X_train\nTargetLabel = y_train\nAB_best_Params,AB_best_score,ada_Best = tuneParams(AdaBoostClassifier(),ABParams,processed_train_data[Best_features_Ada],TargetLabel)\nprint(\"AdaBoost:\",AB_best_Params,AB_best_score)\nRF_best_Params,RF_best_score,RF_best = tuneParams(RandomForestClassifier(),RFParams,processed_train_data[Best_features_RF],TargetLabel)\nprint(\"RandomForest:\",RF_best_Params,RF_best_score)\nET_best_Params,ET_best_score,ExtC_best = tuneParams(ExtraTreesClassifier(),ETParams,processed_train_data[Best_features_Extree],TargetLabel)\nprint(\"ExtraTrees:\",ET_best_Params,ET_best_score)\n# KNN_best_Params,KNN_best_score,KNN_best = tuneParams(KNeighborsClassifier(),KNNParams,processed_train_data,TargetLabel)\n# print(\"KNeighbors:\",KNN_best_Params,KNN_best_score)\n# SVC_best_Params,SVC_best_score,SVMC_best = tuneParams(SVC(),SVCParams,processed_train_data,TargetLabel)\n# print(\"SVC:\",SVC_best_Params,SVC_best_score)\n\n",
      "execution_count": null,
      "outputs": []
    },
    {
      "metadata": {
        "trusted": true,
        "_uuid": "4922820fe20a1de124b6d1228f061a118fe6c971"
      },
      "cell_type": "code",
      "source": "# votingC = VotingClassifier(estimators=[ ('extc', ExtC_best),\n# ('svc', SVMC_best), ('adac',ada_Best),('rf',RF_best),('knn',KNN_best)], voting='soft', n_jobs=4)\n\n# votingC = votingC.fit(X_train, y_train)\n# votingC 'SVM':SVMC_best.predict(test)\nprediction_df = pd.DataFrame({'Xgboot':XGB_best.predict(test[Best_features_XGB]) ,'Ada':ada_Best.predict(test[Best_features_Ada]) , \n                              'RandomForest':RF_best.predict(test[Best_features_RF]) , 'ExtraTrees':ExtC_best.predict(test[Best_features_Extree])\n                              })\ntraining_prediction = pd.DataFrame({'Xgboot':XGB_best.predict(X_train[Best_features_XGB]) ,'Ada':ada_Best.predict(X_train[Best_features_Ada]) , \n                              'RandomForest':RF_best.predict(X_train[Best_features_RF]) , 'ExtraTrees':ExtC_best.predict(X_train[Best_features_Extree])\n                              })",
      "execution_count": null,
      "outputs": []
    },
    {
      "metadata": {
        "trusted": true,
        "_uuid": "e4e6fe0a21eb62ee3927270bd5b969c3306aa0eb"
      },
      "cell_type": "code",
      "source": "from sklearn.metrics import accuracy_score\ntraining_prediction['Final_test'] = (training_prediction.sum(axis=1))/len(prediction_df.columns)\ntraining_prediction['Final_test'] = training_prediction['Final_test'].map(lambda x: 1 if x>=0.5 else 0)\nfor columns in training_prediction.columns:\n    print(\"training_score\" , accuracy_score(y_train , training_prediction[columns]))\ntraining_prediction",
      "execution_count": null,
      "outputs": []
    },
    {
      "metadata": {
        "trusted": true,
        "_uuid": "c4a92e0a4dc5b2fe5cf2168fd40d29f3842ed3f0"
      },
      "cell_type": "code",
      "source": "prediction_df['Final_test'] = (prediction_df.sum(axis=1))/len(prediction_df.columns)\nprediction_df['Final_test'] = prediction_df['Final_test'].map(lambda x: 1 if x>=0.5 else 0)\nprediction_df",
      "execution_count": null,
      "outputs": []
    },
    {
      "metadata": {
        "trusted": true,
        "_uuid": "9f31dc1ad18529e4a75ec7186d663919387c5950"
      },
      "cell_type": "code",
      "source": "print(XGB_best)",
      "execution_count": null,
      "outputs": []
    },
    {
      "metadata": {
        "trusted": true,
        "_uuid": "a1b2ef2f827ecad0227568e87040e19e5a377d48"
      },
      "cell_type": "code",
      "source": "my_submission = pd.DataFrame({'PassengerId': IDtest, 'Survived':prediction_df['Final_test'] })\nmy_submission.to_csv('submission.csv', index=False)",
      "execution_count": null,
      "outputs": []
    },
    {
      "metadata": {
        "trusted": true,
        "_uuid": "dcd8fc2847cba4d76136999c30c00be961f3d357"
      },
      "cell_type": "code",
      "source": "",
      "execution_count": null,
      "outputs": []
    }
  ],
  "metadata": {
    "kernelspec": {
      "display_name": "Python 3",
      "language": "python",
      "name": "python3"
    },
    "language_info": {
      "name": "python",
      "version": "3.6.6",
      "mimetype": "text/x-python",
      "codemirror_mode": {
        "name": "ipython",
        "version": 3
      },
      "pygments_lexer": "ipython3",
      "nbconvert_exporter": "python",
      "file_extension": ".py"
    }
  },
  "nbformat": 4,
  "nbformat_minor": 1
}